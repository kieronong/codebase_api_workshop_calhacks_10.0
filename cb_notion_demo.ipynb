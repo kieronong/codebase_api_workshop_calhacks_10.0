{
 "cells": [
  {
   "cell_type": "markdown",
   "id": "0d54cc6a",
   "metadata": {},
   "source": [
    "# Codebase API Workshop Demo: Notion\n",
    "\n",
    "by Kieron Ong"
   ]
  },
  {
   "cell_type": "markdown",
   "id": "09ebe06d",
   "metadata": {},
   "source": [
    "### Setup\n",
    "\n",
    "Let's start off by installing the Notion Python SDK, a tool that helps us call the API in a more simplified way:"
   ]
  },
  {
   "cell_type": "code",
   "execution_count": 1,
   "id": "9d1e3bd4",
   "metadata": {
    "scrolled": true
   },
   "outputs": [
    {
     "name": "stdout",
     "output_type": "stream",
     "text": [
      "Collecting notion-client\n",
      "  Downloading notion_client-2.0.0-py2.py3-none-any.whl (13 kB)\n",
      "Collecting httpx>=0.15.0 (from notion-client)\n",
      "  Obtaining dependency information for httpx>=0.15.0 from https://files.pythonhosted.org/packages/33/0d/d9ce469af019741c8999711d36b270ff992ceb1a0293f73f9f34fdf131e9/httpx-0.25.0-py3-none-any.whl.metadata\n",
      "  Downloading httpx-0.25.0-py3-none-any.whl.metadata (7.6 kB)\n",
      "Requirement already satisfied: certifi in /Users/kieronong/anaconda3/lib/python3.11/site-packages (from httpx>=0.15.0->notion-client) (2023.7.22)\n",
      "Collecting httpcore<0.19.0,>=0.18.0 (from httpx>=0.15.0->notion-client)\n",
      "  Obtaining dependency information for httpcore<0.19.0,>=0.18.0 from https://files.pythonhosted.org/packages/ac/97/724afbb7925339f6214bf1fdb5714d1a462690466832bf8fb3fd497649f1/httpcore-0.18.0-py3-none-any.whl.metadata\n",
      "  Downloading httpcore-0.18.0-py3-none-any.whl.metadata (18 kB)\n",
      "Requirement already satisfied: idna in /Users/kieronong/anaconda3/lib/python3.11/site-packages (from httpx>=0.15.0->notion-client) (3.4)\n",
      "Requirement already satisfied: sniffio in /Users/kieronong/anaconda3/lib/python3.11/site-packages (from httpx>=0.15.0->notion-client) (1.2.0)\n",
      "Requirement already satisfied: anyio<5.0,>=3.0 in /Users/kieronong/anaconda3/lib/python3.11/site-packages (from httpcore<0.19.0,>=0.18.0->httpx>=0.15.0->notion-client) (3.5.0)\n",
      "Collecting h11<0.15,>=0.13 (from httpcore<0.19.0,>=0.18.0->httpx>=0.15.0->notion-client)\n",
      "  Downloading h11-0.14.0-py3-none-any.whl (58 kB)\n",
      "\u001b[2K     \u001b[90m━━━━━━━━━━━━━━━━━━━━━━━━━━━━━━━━━━━━━━━━\u001b[0m \u001b[32m58.3/58.3 kB\u001b[0m \u001b[31m3.4 MB/s\u001b[0m eta \u001b[36m0:00:00\u001b[0m\n",
      "\u001b[?25hDownloading httpx-0.25.0-py3-none-any.whl (75 kB)\n",
      "\u001b[2K   \u001b[90m━━━━━━━━━━━━━━━━━━━━━━━━━━━━━━━━━━━━━━━━\u001b[0m \u001b[32m75.7/75.7 kB\u001b[0m \u001b[31m10.2 MB/s\u001b[0m eta \u001b[36m0:00:00\u001b[0m\n",
      "\u001b[?25hDownloading httpcore-0.18.0-py3-none-any.whl (76 kB)\n",
      "\u001b[2K   \u001b[90m━━━━━━━━━━━━━━━━━━━━━━━━━━━━━━━━━━━━━━━━\u001b[0m \u001b[32m76.0/76.0 kB\u001b[0m \u001b[31m8.0 MB/s\u001b[0m eta \u001b[36m0:00:00\u001b[0m\n",
      "\u001b[?25hInstalling collected packages: h11, httpcore, httpx, notion-client\n",
      "Successfully installed h11-0.14.0 httpcore-0.18.0 httpx-0.25.0 notion-client-2.0.0\n",
      "Note: you may need to restart the kernel to use updated packages.\n"
     ]
    }
   ],
   "source": [
    "pip install notion-client"
   ]
  },
  {
   "cell_type": "markdown",
   "id": "e7abeafb",
   "metadata": {},
   "source": [
    "Next, let's create an integration on the Notion API. You can find out how to do that here:\n",
    "\n",
    "https://developers.notion.com/docs/create-a-notion-integration\n",
    "\n",
    "_Under 'Getting Started', make sure to follow the **Create your integration in Notion** and **Get your API secret** sections. That's all you'lll need!_\n",
    "\n",
    "An integration in Notion is basically a setting that allows you to expose certain parts of your Notion pages to the Notion API. By default, you won't able to use the API without setting this up!\n",
    "\n",
    "(Can you think of why this is a good idea from a security standpoint?)\n",
    "\n",
    "***\n",
    "\n",
    "### Using the Notion SDK\n",
    "\n",
    "Now, let's initialize a client using the Notion SDK, which will allow us to interact with Notion! \n",
    "\n",
    "_Make sure you replace the Notion token below with your API Key (from the previous step)_"
   ]
  },
  {
   "cell_type": "code",
   "execution_count": 29,
   "id": "91bbbee3",
   "metadata": {},
   "outputs": [],
   "source": [
    "import os\n",
    "import json\n",
    "from notion_client import Client\n",
    "\n",
    "# Replace \"YOUR_NOTION_TOKEN\" with your actual Notion secret token\n",
    "notion_token = \"YOUR_NOTION_TOKEN\"\n",
    "\n",
    "notion = Client(auth=notion_token)"
   ]
  },
  {
   "cell_type": "markdown",
   "id": "413bd9b2",
   "metadata": {},
   "source": [
    "### Making the Database\n",
    "\n",
    "Now, we'll need an actual page to interact with. To start, making a copy of this Notion database:\n",
    "\n",
    "https://glossy-mango-506.notion.site/6c8ca5b2fac24d93b23bdf4488783f39?v=2f24b2080ac145c295a7fa137fc0fa14&pvs=4\n",
    "\n",
    "_You can duplicate it by clicking 'Duplicate' on the top right._\n",
    "\n",
    "***\n",
    "\n",
    "Now, we'll need to enable integration on your newly created page. Follow the instructions here to do it, under **Give your notion page permissions**:\n",
    "\n",
    "https://developers.notion.com/docs/create-a-notion-integration\n",
    "\n",
    "_Simplified instructions: Click the top left '...' button on the page, and click Add Connections in the dropdown menu and add the integration you created earlier_\n",
    "\n",
    "***\n",
    "\n",
    "### Querying the Database\n",
    "\n",
    "Next, find the database_id for your page. Simply copy the link for the page, for e.g.:\n",
    "\n",
    "https://www.notion.so/bdc73c253fda4438bc68d1fb68a3a3ef/?v=965042da51244e74ab6022a5ef24c749\n",
    "\n",
    "Your database ID is the string of numbers and letters after \"notion.so/\" and before \"/?v\". So in this case: _bdc73c253fda4438bc68d1fb68a3a3ef_\n",
    "\n",
    "With this, we can now query the database to get data from the table using this API endpoint:\n",
    "\n",
    "https://developers.notion.com/reference/post-database-query\n",
    "\n",
    "_Make sure to replace 'database_id' below with your own database ID!_"
   ]
  },
  {
   "cell_type": "code",
   "execution_count": 82,
   "id": "5a134c97",
   "metadata": {},
   "outputs": [
    {
     "ename": "APIResponseError",
     "evalue": "path failed validation: path.database_id should be a valid uuid, instead was `\"YOUR_DATABASE_ID\"`.",
     "output_type": "error",
     "traceback": [
      "\u001b[0;31m---------------------------------------------------------------------------\u001b[0m",
      "\u001b[0;31mHTTPStatusError\u001b[0m                           Traceback (most recent call last)",
      "File \u001b[0;32m~/anaconda3/lib/python3.11/site-packages/notion_client/client.py:118\u001b[0m, in \u001b[0;36mBaseClient._parse_response\u001b[0;34m(self, response)\u001b[0m\n\u001b[1;32m    117\u001b[0m \u001b[38;5;28;01mtry\u001b[39;00m:\n\u001b[0;32m--> 118\u001b[0m     response\u001b[38;5;241m.\u001b[39mraise_for_status()\n\u001b[1;32m    119\u001b[0m \u001b[38;5;28;01mexcept\u001b[39;00m httpx\u001b[38;5;241m.\u001b[39mHTTPStatusError \u001b[38;5;28;01mas\u001b[39;00m error:\n",
      "File \u001b[0;32m~/anaconda3/lib/python3.11/site-packages/httpx/_models.py:749\u001b[0m, in \u001b[0;36mResponse.raise_for_status\u001b[0;34m(self)\u001b[0m\n\u001b[1;32m    748\u001b[0m message \u001b[38;5;241m=\u001b[39m message\u001b[38;5;241m.\u001b[39mformat(\u001b[38;5;28mself\u001b[39m, error_type\u001b[38;5;241m=\u001b[39merror_type)\n\u001b[0;32m--> 749\u001b[0m \u001b[38;5;28;01mraise\u001b[39;00m HTTPStatusError(message, request\u001b[38;5;241m=\u001b[39mrequest, response\u001b[38;5;241m=\u001b[39m\u001b[38;5;28mself\u001b[39m)\n",
      "\u001b[0;31mHTTPStatusError\u001b[0m: Client error '400 Bad Request' for url 'https://api.notion.com/v1/databases/YOUR_DATABASE_ID/query'\nFor more information check: https://developer.mozilla.org/en-US/docs/Web/HTTP/Status/400",
      "\nDuring handling of the above exception, another exception occurred:\n",
      "\u001b[0;31mAPIResponseError\u001b[0m                          Traceback (most recent call last)",
      "Cell \u001b[0;32mIn[82], line 4\u001b[0m\n\u001b[1;32m      1\u001b[0m \u001b[38;5;66;03m# Replace \"YOUR_DATABASE_ID\" with your actual database ID\u001b[39;00m\n\u001b[1;32m      2\u001b[0m database_id \u001b[38;5;241m=\u001b[39m \u001b[38;5;124m\"\u001b[39m\u001b[38;5;124mYOUR_DATABASE_ID\u001b[39m\u001b[38;5;124m\"\u001b[39m\n\u001b[0;32m----> 4\u001b[0m results \u001b[38;5;241m=\u001b[39m notion\u001b[38;5;241m.\u001b[39mdatabases\u001b[38;5;241m.\u001b[39mquery(\n\u001b[1;32m      5\u001b[0m     \u001b[38;5;241m*\u001b[39m\u001b[38;5;241m*\u001b[39m{\n\u001b[1;32m      6\u001b[0m         \u001b[38;5;124m\"\u001b[39m\u001b[38;5;124mdatabase_id\u001b[39m\u001b[38;5;124m\"\u001b[39m: database_id,\n\u001b[1;32m      7\u001b[0m         \n\u001b[1;32m      8\u001b[0m     }\n\u001b[1;32m      9\u001b[0m )\u001b[38;5;241m.\u001b[39mget(\u001b[38;5;124m\"\u001b[39m\u001b[38;5;124mresults\u001b[39m\u001b[38;5;124m\"\u001b[39m)\n\u001b[1;32m     11\u001b[0m \u001b[38;5;28mprint\u001b[39m(results)\n",
      "File \u001b[0;32m~/anaconda3/lib/python3.11/site-packages/notion_client/api_endpoints.py:132\u001b[0m, in \u001b[0;36mDatabasesEndpoint.query\u001b[0;34m(self, database_id, **kwargs)\u001b[0m\n\u001b[1;32m    127\u001b[0m \u001b[38;5;28;01mdef\u001b[39;00m \u001b[38;5;21mquery\u001b[39m(\u001b[38;5;28mself\u001b[39m, database_id: \u001b[38;5;28mstr\u001b[39m, \u001b[38;5;241m*\u001b[39m\u001b[38;5;241m*\u001b[39mkwargs: Any) \u001b[38;5;241m-\u001b[39m\u001b[38;5;241m>\u001b[39m SyncAsync[Any]:\n\u001b[1;32m    128\u001b[0m \u001b[38;5;250m    \u001b[39m\u001b[38;5;124;03m\"\"\"Get a list of [Pages](https://developers.notion.com/reference/page) contained in the database.\u001b[39;00m\n\u001b[1;32m    129\u001b[0m \n\u001b[1;32m    130\u001b[0m \u001b[38;5;124;03m    *[🔗 Endpoint documentation](https://developers.notion.com/reference/post-database-query)*\u001b[39;00m\n\u001b[1;32m    131\u001b[0m \u001b[38;5;124;03m    \"\"\"\u001b[39;00m  \u001b[38;5;66;03m# noqa: E501\u001b[39;00m\n\u001b[0;32m--> 132\u001b[0m     \u001b[38;5;28;01mreturn\u001b[39;00m \u001b[38;5;28mself\u001b[39m\u001b[38;5;241m.\u001b[39mparent\u001b[38;5;241m.\u001b[39mrequest(\n\u001b[1;32m    133\u001b[0m         path\u001b[38;5;241m=\u001b[39m\u001b[38;5;124mf\u001b[39m\u001b[38;5;124m\"\u001b[39m\u001b[38;5;124mdatabases/\u001b[39m\u001b[38;5;132;01m{\u001b[39;00mdatabase_id\u001b[38;5;132;01m}\u001b[39;00m\u001b[38;5;124m/query\u001b[39m\u001b[38;5;124m\"\u001b[39m,\n\u001b[1;32m    134\u001b[0m         method\u001b[38;5;241m=\u001b[39m\u001b[38;5;124m\"\u001b[39m\u001b[38;5;124mPOST\u001b[39m\u001b[38;5;124m\"\u001b[39m,\n\u001b[1;32m    135\u001b[0m         body\u001b[38;5;241m=\u001b[39mpick(kwargs, \u001b[38;5;124m\"\u001b[39m\u001b[38;5;124mfilter\u001b[39m\u001b[38;5;124m\"\u001b[39m, \u001b[38;5;124m\"\u001b[39m\u001b[38;5;124msorts\u001b[39m\u001b[38;5;124m\"\u001b[39m, \u001b[38;5;124m\"\u001b[39m\u001b[38;5;124mstart_cursor\u001b[39m\u001b[38;5;124m\"\u001b[39m, \u001b[38;5;124m\"\u001b[39m\u001b[38;5;124mpage_size\u001b[39m\u001b[38;5;124m\"\u001b[39m),\n\u001b[1;32m    136\u001b[0m         auth\u001b[38;5;241m=\u001b[39mkwargs\u001b[38;5;241m.\u001b[39mget(\u001b[38;5;124m\"\u001b[39m\u001b[38;5;124mauth\u001b[39m\u001b[38;5;124m\"\u001b[39m),\n\u001b[1;32m    137\u001b[0m     )\n",
      "File \u001b[0;32m~/anaconda3/lib/python3.11/site-packages/notion_client/client.py:194\u001b[0m, in \u001b[0;36mClient.request\u001b[0;34m(self, path, method, query, body, auth)\u001b[0m\n\u001b[1;32m    192\u001b[0m \u001b[38;5;28;01mexcept\u001b[39;00m httpx\u001b[38;5;241m.\u001b[39mTimeoutException:\n\u001b[1;32m    193\u001b[0m     \u001b[38;5;28;01mraise\u001b[39;00m RequestTimeoutError()\n\u001b[0;32m--> 194\u001b[0m \u001b[38;5;28;01mreturn\u001b[39;00m \u001b[38;5;28mself\u001b[39m\u001b[38;5;241m.\u001b[39m_parse_response(response)\n",
      "File \u001b[0;32m~/anaconda3/lib/python3.11/site-packages/notion_client/client.py:126\u001b[0m, in \u001b[0;36mBaseClient._parse_response\u001b[0;34m(self, response)\u001b[0m\n\u001b[1;32m    124\u001b[0m         code \u001b[38;5;241m=\u001b[39m \u001b[38;5;28;01mNone\u001b[39;00m\n\u001b[1;32m    125\u001b[0m     \u001b[38;5;28;01mif\u001b[39;00m code \u001b[38;5;129;01mand\u001b[39;00m is_api_error_code(code):\n\u001b[0;32m--> 126\u001b[0m         \u001b[38;5;28;01mraise\u001b[39;00m APIResponseError(response, body[\u001b[38;5;124m\"\u001b[39m\u001b[38;5;124mmessage\u001b[39m\u001b[38;5;124m\"\u001b[39m], code)\n\u001b[1;32m    127\u001b[0m     \u001b[38;5;28;01mraise\u001b[39;00m HTTPResponseError(error\u001b[38;5;241m.\u001b[39mresponse)\n\u001b[1;32m    129\u001b[0m body \u001b[38;5;241m=\u001b[39m response\u001b[38;5;241m.\u001b[39mjson()\n",
      "\u001b[0;31mAPIResponseError\u001b[0m: path failed validation: path.database_id should be a valid uuid, instead was `\"YOUR_DATABASE_ID\"`."
     ]
    }
   ],
   "source": [
    "# Replace \"YOUR_DATABASE_ID\" with your actual database ID\n",
    "database_id = \"YOUR_DATABASE_ID\"\n",
    "\n",
    "results = notion.databases.query(\n",
    "    **{\n",
    "        \"database_id\": database_id,\n",
    "        \n",
    "    }\n",
    ").get(\"results\")\n",
    "\n",
    "print(results)"
   ]
  },
  {
   "cell_type": "markdown",
   "id": "319cc601",
   "metadata": {},
   "source": [
    "Wow! That's alot of data; let's do some parsing!"
   ]
  },
  {
   "cell_type": "code",
   "execution_count": 67,
   "id": "2d1fd025",
   "metadata": {},
   "outputs": [
    {
     "name": "stdout",
     "output_type": "stream",
     "text": [
      "[{'name': 'Kieron Ong', 'birthday': '2000-07-16', 'favorite_cake': 'Chocolate'}, {'name': 'Eduardo Lopez', 'birthday': '2001-03-11', 'favorite_cake': 'Red Velvet'}, {'name': 'Michael Ng', 'birthday': '2001-10-10', 'favorite_cake': 'Mango'}, {'name': 'Nicole Martinez', 'birthday': '2004-06-01', 'favorite_cake': 'Fruit Tart'}, {'name': 'Tanya Bhakri', 'birthday': '2023-04-11', 'favorite_cake': 'Tortoise'}]\n"
     ]
    }
   ],
   "source": [
    "output = [{\n",
    "    'name': r['properties']['Name']['title'][0]['text']['content'],\n",
    "    'birthday': r['properties']['Birthday']['date']['start'],\n",
    "    'favorite_cake': r['properties']['Favorite Cake']['rich_text'][0]['text']['content']\n",
    "} for r in results]\n",
    "\n",
    "print(output)"
   ]
  },
  {
   "cell_type": "markdown",
   "id": "172044fc",
   "metadata": {},
   "source": [
    "### Modifying the Database\n",
    "\n",
    "Much better! Something here looks wrong; there's no way Tanya is only 6 months old. Let's try to fix that!\n",
    "\n",
    "In Notion, each entry in a database is a **page**, so we can use this endpoint:\n",
    "\n",
    "https://developers.notion.com/reference/patch-page"
   ]
  },
  {
   "cell_type": "code",
   "execution_count": 78,
   "id": "b94e1fd4",
   "metadata": {},
   "outputs": [
    {
     "name": "stdout",
     "output_type": "stream",
     "text": [
      "{'object': 'page', 'id': '4de6aa0b-9032-48bc-91ed-00210c9833c6', 'created_time': '2023-10-28T19:54:00.000Z', 'last_edited_time': '2023-10-28T20:38:00.000Z', 'created_by': {'object': 'user', 'id': 'efe5f273-5780-4d97-afff-9fe771c072eb'}, 'last_edited_by': {'object': 'user', 'id': 'bf071854-4efb-4d9f-8c1f-429181002bd1'}, 'cover': None, 'icon': None, 'parent': {'type': 'database_id', 'database_id': 'bdc73c25-3fda-4438-bc68-d1fb68a3a3ef'}, 'archived': False, 'properties': {'Favorite Cake': {'id': 'Zune', 'type': 'rich_text', 'rich_text': [{'type': 'text', 'text': {'content': 'Tortoise', 'link': None}, 'annotations': {'bold': False, 'italic': False, 'strikethrough': False, 'underline': False, 'code': False, 'color': 'default'}, 'plain_text': 'Tortoise', 'href': None}]}, 'Birthday': {'id': '%60Nwq', 'type': 'date', 'date': {'start': '2001-03-11', 'end': None, 'time_zone': None}}, 'Name': {'id': 'title', 'type': 'title', 'title': [{'type': 'text', 'text': {'content': 'Tanya Bhakri', 'link': None}, 'annotations': {'bold': False, 'italic': False, 'strikethrough': False, 'underline': False, 'code': False, 'color': 'default'}, 'plain_text': 'Tanya Bhakri', 'href': None}]}}, 'url': 'https://www.notion.so/Tanya-Bhakri-4de6aa0b903248bc91ed00210c9833c6', 'public_url': None, 'request_id': 'ae15bbe8-a298-4278-b013-e88277ca184b'}\n"
     ]
    }
   ],
   "source": [
    "page_id = [r['id'] for r in results if r['properties']['Name']['title'][0]['text']['content'] == 'Tanya Bhakri'][0]\n",
    "\n",
    "result = notion.pages.update(\n",
    "    **{\n",
    "        'page_id': page_id,\n",
    "        'properties': {\n",
    "            'Birthday': {\n",
    "                'date': {\n",
    "                    'start': '2001-03-11'\n",
    "                },\n",
    "            }\n",
    "        }\n",
    "    })\n",
    "\n",
    "print(result)"
   ]
  },
  {
   "cell_type": "markdown",
   "id": "547afafc",
   "metadata": {},
   "source": [
    "Check your notion page; we should have just fixed it! \n",
    "\n",
    "### Challenge: Adding New Database Entries\n",
    "\n",
    "Now, here's a challenge — how do we add a new entry to the database? Here's an endpoint that might help:\n",
    "\n",
    "https://developers.notion.com/reference/post-page"
   ]
  },
  {
   "cell_type": "code",
   "execution_count": null,
   "id": "7bde6e2e",
   "metadata": {},
   "outputs": [],
   "source": [
    "new_database_id = # YOUR CODE HERE\n",
    "new_page = {\n",
    "    # YOUR CODE HERE\n",
    "}\n",
    "notion.pages.create(parent={\"database_id\": new_database_id}, properties=new_page)"
   ]
  }
 ],
 "metadata": {
  "kernelspec": {
   "display_name": "Python 3 (ipykernel)",
   "language": "python",
   "name": "python3"
  },
  "language_info": {
   "codemirror_mode": {
    "name": "ipython",
    "version": 3
   },
   "file_extension": ".py",
   "mimetype": "text/x-python",
   "name": "python",
   "nbconvert_exporter": "python",
   "pygments_lexer": "ipython3",
   "version": "3.11.4"
  }
 },
 "nbformat": 4,
 "nbformat_minor": 5
}
